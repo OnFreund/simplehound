{
 "cells": [
  {
   "cell_type": "markdown",
   "metadata": {},
   "source": [
    "Notebook showing basic usage"
   ]
  },
  {
   "cell_type": "code",
   "execution_count": 1,
   "metadata": {},
   "outputs": [],
   "source": [
    "import json\n",
    "\n",
    "import simplehound.core as hound\n",
    "\n",
    "def load_api_secrets(filename):\n",
    "    \"\"\"Convenience to load the API key from a json file.\"\"\"\n",
    "    try:\n",
    "        with open(filename, 'r') as fp:\n",
    "            api_params = json.load(fp)\n",
    "    except Exception as e:\n",
    "        print('Failed to load API secrets key: {}'.format(e))\n",
    "        api_params = None\n",
    "    return api_params['key']"
   ]
  },
  {
   "cell_type": "code",
   "execution_count": 2,
   "metadata": {},
   "outputs": [],
   "source": [
    "api_key = load_api_secrets('/Users/robin/Documents/Sighthound_API_key.json')"
   ]
  },
  {
   "cell_type": "code",
   "execution_count": 3,
   "metadata": {},
   "outputs": [],
   "source": [
    "api = hound.cloud(api_key)"
   ]
  },
  {
   "cell_type": "code",
   "execution_count": 4,
   "metadata": {},
   "outputs": [],
   "source": [
    "image_file_path = 'tests/images/people_car.jpg'"
   ]
  },
  {
   "cell_type": "code",
   "execution_count": 5,
   "metadata": {},
   "outputs": [],
   "source": [
    "with open(image_file_path, \"rb\") as img_bytes:\n",
    "    detections = api.detect(img_bytes.read())"
   ]
  },
  {
   "cell_type": "code",
   "execution_count": 6,
   "metadata": {},
   "outputs": [
    {
     "data": {
      "text/plain": [
       "{'image': {'width': 960, 'height': 480, 'orientation': 1},\n",
       " 'objects': [{'type': 'person',\n",
       "   'boundingBox': {'x': 227, 'y': 133, 'height': 245, 'width': 125}},\n",
       "  {'type': 'person',\n",
       "   'boundingBox': {'x': 833, 'y': 137, 'height': 268, 'width': 93}},\n",
       "  {'type': 'face',\n",
       "   'boundingBox': {'x': 305, 'y': 151, 'height': 28, 'width': 30},\n",
       "   'attributes': {'gender': 'male',\n",
       "    'genderConfidence': 0.9733,\n",
       "    'age': 33,\n",
       "    'ageConfidence': 0.7801,\n",
       "    'frontal': True}},\n",
       "  {'type': 'face',\n",
       "   'boundingBox': {'x': 855, 'y': 147, 'height': 29, 'width': 24},\n",
       "   'attributes': {'gender': 'male',\n",
       "    'genderConfidence': 0.9834,\n",
       "    'age': 37,\n",
       "    'ageConfidence': 0.5096,\n",
       "    'frontal': False}}],\n",
       " 'requestId': '30b6d53b10bd4d6d981b5e650c258e19'}"
      ]
     },
     "execution_count": 6,
     "metadata": {},
     "output_type": "execute_result"
    }
   ],
   "source": [
    "detections"
   ]
  },
  {
   "cell_type": "code",
   "execution_count": 7,
   "metadata": {},
   "outputs": [
    {
     "data": {
      "text/plain": [
       "{'image_width': 960,\n",
       " 'image_height': 480,\n",
       " 'requestId': '30b6d53b10bd4d6d981b5e650c258e19'}"
      ]
     },
     "execution_count": 7,
     "metadata": {},
     "output_type": "execute_result"
    }
   ],
   "source": [
    "metadata = hound.get_metadata(detections)\n",
    "metadata"
   ]
  },
  {
   "cell_type": "code",
   "execution_count": 8,
   "metadata": {},
   "outputs": [
    {
     "data": {
      "text/plain": [
       "[{'gender': 'male',\n",
       "  'age': 33,\n",
       "  'boundingBox': {'x': 305, 'y': 151, 'height': 28, 'width': 30}},\n",
       " {'gender': 'male',\n",
       "  'age': 37,\n",
       "  'boundingBox': {'x': 855, 'y': 147, 'height': 29, 'width': 24}}]"
      ]
     },
     "execution_count": 8,
     "metadata": {},
     "output_type": "execute_result"
    }
   ],
   "source": [
    "faces = hound.get_faces(detections)\n",
    "faces"
   ]
  },
  {
   "cell_type": "code",
   "execution_count": 9,
   "metadata": {},
   "outputs": [
    {
     "data": {
      "text/plain": [
       "[{'boundingBox': {'x': 227, 'y': 133, 'height': 245, 'width': 125}},\n",
       " {'boundingBox': {'x': 833, 'y': 137, 'height': 268, 'width': 93}}]"
      ]
     },
     "execution_count": 9,
     "metadata": {},
     "output_type": "execute_result"
    }
   ],
   "source": [
    "people = hound.get_people(detections)\n",
    "people"
   ]
  },
  {
   "cell_type": "code",
   "execution_count": null,
   "metadata": {},
   "outputs": [],
   "source": []
  }
 ],
 "metadata": {
  "kernelspec": {
   "display_name": "Python 3",
   "language": "python",
   "name": "python3"
  },
  "language_info": {
   "codemirror_mode": {
    "name": "ipython",
    "version": 3
   },
   "file_extension": ".py",
   "mimetype": "text/x-python",
   "name": "python",
   "nbconvert_exporter": "python",
   "pygments_lexer": "ipython3",
   "version": "3.7.3"
  }
 },
 "nbformat": 4,
 "nbformat_minor": 4
}
